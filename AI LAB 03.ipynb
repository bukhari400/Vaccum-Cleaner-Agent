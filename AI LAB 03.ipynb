{
 "cells": [
  {
   "cell_type": "code",
   "execution_count": 25,
   "id": "4c570e92",
   "metadata": {},
   "outputs": [
    {
     "name": "stdout",
     "output_type": "stream",
     "text": [
      "83\n",
      "Vaccum Cleaner is in Room A\n"
     ]
    },
    {
     "ename": "KeyError",
     "evalue": "0",
     "output_type": "error",
     "traceback": [
      "\u001b[1;31m---------------------------------------------------------------------------\u001b[0m",
      "\u001b[1;31mKeyError\u001b[0m                                  Traceback (most recent call last)",
      "Cell \u001b[1;32mIn[25], line 39\u001b[0m\n\u001b[0;32m     37\u001b[0m v1\u001b[38;5;241m=\u001b[39mvaccum_cleaner()\n\u001b[0;32m     38\u001b[0m v1\u001b[38;5;241m.\u001b[39mallot_initial_state()\n\u001b[1;32m---> 39\u001b[0m v1\u001b[38;5;241m.\u001b[39mdetect_throught_sensors()\n",
      "Cell \u001b[1;32mIn[25], line 28\u001b[0m, in \u001b[0;36mvaccum_cleaner.detect_throught_sensors\u001b[1;34m(self)\u001b[0m\n\u001b[0;32m     27\u001b[0m \u001b[38;5;28;01mdef\u001b[39;00m \u001b[38;5;21mdetect_throught_sensors\u001b[39m(\u001b[38;5;28mself\u001b[39m):\n\u001b[1;32m---> 28\u001b[0m     \u001b[38;5;28;01mif\u001b[39;00m \u001b[38;5;28mself\u001b[39m\u001b[38;5;241m.\u001b[39mcheck_room_status[\u001b[38;5;241m0\u001b[39m][\u001b[38;5;241m0\u001b[39m]\u001b[38;5;241m==\u001b[39m\u001b[38;5;124m\"\u001b[39m\u001b[38;5;124mDIRTY\u001b[39m\u001b[38;5;124m\"\u001b[39m:\n\u001b[0;32m     29\u001b[0m         perform_actions_room_A(\u001b[38;5;28mself\u001b[39m)\n\u001b[0;32m     30\u001b[0m     \u001b[38;5;28;01melif\u001b[39;00m \u001b[38;5;28mself\u001b[39m\u001b[38;5;241m.\u001b[39mcheck_room_status[\u001b[38;5;241m1\u001b[39m][\u001b[38;5;241m0\u001b[39m]\u001b[38;5;241m==\u001b[39m\u001b[38;5;124m\"\u001b[39m\u001b[38;5;124mDIRTY\u001b[39m\u001b[38;5;124m\"\u001b[39m:\n",
      "\u001b[1;31mKeyError\u001b[0m: 0"
     ]
    }
   ],
   "source": []
  },
  {
   "cell_type": "code",
   "execution_count": 58,
   "id": "8ff3e827",
   "metadata": {
    "scrolled": true
   },
   "outputs": [
    {
     "name": "stdout",
     "output_type": "stream",
     "text": [
      "           Welcome To Vaccum Cleaning Agent World      \n",
      "                          Menu                         \n",
      "Press 1 To Start Bot\n",
      "Press 2 To check Percept History\n",
      "Press 3 To Check Actions\n",
      "1\n",
      "Initial State: Room B\n",
      "Action : Clean B\n",
      "Moving Towards Left  'L'\n",
      "Enter 0 to exit: 2\n",
      "           Welcome To Vaccum Cleaning Agent World      \n",
      "                          Menu                         \n",
      "Press 1 To Start Bot\n",
      "Press 2 To check Percept History\n",
      "Press 3 To Check Actions\n",
      "2\n",
      "['Cleaning B']\n",
      "Enter 0 to exit: 3\n",
      "           Welcome To Vaccum Cleaning Agent World      \n",
      "                          Menu                         \n",
      "Press 1 To Start Bot\n",
      "Press 2 To check Percept History\n",
      "Press 3 To Check Actions\n",
      "3\n",
      "['L']\n",
      "Enter 0 to exit: 1\n",
      "           Welcome To Vaccum Cleaning Agent World      \n",
      "                          Menu                         \n",
      "Press 1 To Start Bot\n",
      "Press 2 To check Percept History\n",
      "Press 3 To Check Actions\n",
      "1\n",
      "Initial State: Room B\n"
     ]
    },
    {
     "ename": "KeyboardInterrupt",
     "evalue": "Interrupted by user",
     "output_type": "error",
     "traceback": [
      "\u001b[1;31m---------------------------------------------------------------------------\u001b[0m",
      "\u001b[1;31mKeyboardInterrupt\u001b[0m                         Traceback (most recent call last)",
      "Cell \u001b[1;32mIn[58], line 75\u001b[0m\n\u001b[0;32m     73\u001b[0m \u001b[38;5;28;01melse\u001b[39;00m:\n\u001b[0;32m     74\u001b[0m     \u001b[38;5;28mprint\u001b[39m(\u001b[38;5;124m\"\u001b[39m\u001b[38;5;124mInvalid choice. Please select a valid option.\u001b[39m\u001b[38;5;124m\"\u001b[39m)\n\u001b[1;32m---> 75\u001b[0m c \u001b[38;5;241m=\u001b[39m \u001b[38;5;28mint\u001b[39m(\u001b[38;5;28minput\u001b[39m(\u001b[38;5;124m\"\u001b[39m\u001b[38;5;124mEnter 0 to exit: \u001b[39m\u001b[38;5;124m\"\u001b[39m))\n",
      "File \u001b[1;32m~\\anaconda3\\Lib\\site-packages\\ipykernel\\kernelbase.py:1202\u001b[0m, in \u001b[0;36mKernel.raw_input\u001b[1;34m(self, prompt)\u001b[0m\n\u001b[0;32m   1200\u001b[0m     msg \u001b[38;5;241m=\u001b[39m \u001b[38;5;124m\"\u001b[39m\u001b[38;5;124mraw_input was called, but this frontend does not support input requests.\u001b[39m\u001b[38;5;124m\"\u001b[39m\n\u001b[0;32m   1201\u001b[0m     \u001b[38;5;28;01mraise\u001b[39;00m StdinNotImplementedError(msg)\n\u001b[1;32m-> 1202\u001b[0m \u001b[38;5;28;01mreturn\u001b[39;00m \u001b[38;5;28mself\u001b[39m\u001b[38;5;241m.\u001b[39m_input_request(\n\u001b[0;32m   1203\u001b[0m     \u001b[38;5;28mstr\u001b[39m(prompt),\n\u001b[0;32m   1204\u001b[0m     \u001b[38;5;28mself\u001b[39m\u001b[38;5;241m.\u001b[39m_parent_ident[\u001b[38;5;124m\"\u001b[39m\u001b[38;5;124mshell\u001b[39m\u001b[38;5;124m\"\u001b[39m],\n\u001b[0;32m   1205\u001b[0m     \u001b[38;5;28mself\u001b[39m\u001b[38;5;241m.\u001b[39mget_parent(\u001b[38;5;124m\"\u001b[39m\u001b[38;5;124mshell\u001b[39m\u001b[38;5;124m\"\u001b[39m),\n\u001b[0;32m   1206\u001b[0m     password\u001b[38;5;241m=\u001b[39m\u001b[38;5;28;01mFalse\u001b[39;00m,\n\u001b[0;32m   1207\u001b[0m )\n",
      "File \u001b[1;32m~\\anaconda3\\Lib\\site-packages\\ipykernel\\kernelbase.py:1245\u001b[0m, in \u001b[0;36mKernel._input_request\u001b[1;34m(self, prompt, ident, parent, password)\u001b[0m\n\u001b[0;32m   1242\u001b[0m \u001b[38;5;28;01mexcept\u001b[39;00m \u001b[38;5;167;01mKeyboardInterrupt\u001b[39;00m:\n\u001b[0;32m   1243\u001b[0m     \u001b[38;5;66;03m# re-raise KeyboardInterrupt, to truncate traceback\u001b[39;00m\n\u001b[0;32m   1244\u001b[0m     msg \u001b[38;5;241m=\u001b[39m \u001b[38;5;124m\"\u001b[39m\u001b[38;5;124mInterrupted by user\u001b[39m\u001b[38;5;124m\"\u001b[39m\n\u001b[1;32m-> 1245\u001b[0m     \u001b[38;5;28;01mraise\u001b[39;00m \u001b[38;5;167;01mKeyboardInterrupt\u001b[39;00m(msg) \u001b[38;5;28;01mfrom\u001b[39;00m \u001b[38;5;28;01mNone\u001b[39;00m\n\u001b[0;32m   1246\u001b[0m \u001b[38;5;28;01mexcept\u001b[39;00m \u001b[38;5;167;01mException\u001b[39;00m:\n\u001b[0;32m   1247\u001b[0m     \u001b[38;5;28mself\u001b[39m\u001b[38;5;241m.\u001b[39mlog\u001b[38;5;241m.\u001b[39mwarning(\u001b[38;5;124m\"\u001b[39m\u001b[38;5;124mInvalid Message:\u001b[39m\u001b[38;5;124m\"\u001b[39m, exc_info\u001b[38;5;241m=\u001b[39m\u001b[38;5;28;01mTrue\u001b[39;00m)\n",
      "\u001b[1;31mKeyboardInterrupt\u001b[0m: Interrupted by user"
     ]
    }
   ],
   "source": []
  },
  {
   "cell_type": "code",
   "execution_count": null,
   "id": "a2c00f9e",
   "metadata": {},
   "outputs": [
    {
     "name": "stdout",
     "output_type": "stream",
     "text": [
      "           Welcome To Vacuum Cleaning Agent World      \n",
      "                          Menu                         \n",
      "Press 1 To Start Bot\n",
      "Press 2 To check Percept History\n",
      "Press 3 To Check Actions\n",
      "1\n",
      "Initial State: Room A\n",
      "Both rooms are dirty.\n",
      "Moving Towards Right  'R'\n",
      "Action: Clean A\n",
      "Enter 0 to exit: 1\n",
      "           Welcome To Vacuum Cleaning Agent World      \n",
      "                          Menu                         \n",
      "Press 1 To Start Bot\n",
      "Press 2 To check Percept History\n",
      "Press 3 To Check Actions\n",
      "1\n",
      "Initial State: Room B\n",
      "Room A: CLEAN\n",
      "Room B: DIRTY\n",
      "Moving Towards Left  'L'\n",
      "Action: Clean B\n",
      "Enter 0 to exit: 2\n",
      "           Welcome To Vacuum Cleaning Agent World      \n",
      "                          Menu                         \n",
      "Press 1 To Start Bot\n",
      "Press 2 To check Percept History\n",
      "Press 3 To Check Actions\n",
      "2\n",
      "['Cleaning A', 'Cleaning B']\n",
      "Enter 0 to exit: 2\n",
      "           Welcome To Vacuum Cleaning Agent World      \n",
      "                          Menu                         \n",
      "Press 1 To Start Bot\n",
      "Press 2 To check Percept History\n",
      "Press 3 To Check Actions\n",
      "3\n",
      "['R', 'L']\n"
     ]
    }
   ],
   "source": [
    "import numpy as np\n",
    "\n",
    "class VacuumCleaner:\n",
    "    \n",
    "    def __init__(self):    \n",
    "        self.check_room_status = {\"A\": \"DIRTY\", \"B\": \"DIRTY\"}\n",
    "        self.actions = []\n",
    "        self.percept_history = []\n",
    "        self.allot_room = 0\n",
    "        \n",
    "    def allot_initial_state(self):\n",
    "        self.allot_room = np.random.randint(0, 100)\n",
    "        if self.allot_room >= 50:\n",
    "            print(\"Initial State: Room A\")\n",
    "        else:\n",
    "            print(\"Initial State: Room B\")\n",
    "            \n",
    "    def movement_A(self):\n",
    "        if self.check_room_status[\"A\"] == \"DIRTY\":\n",
    "            print(\"Moving Towards Right  'R'\")\n",
    "            self.actions.append(\"R\")\n",
    "    \n",
    "    def movement_B(self):\n",
    "        if self.check_room_status[\"B\"] == \"DIRTY\":\n",
    "            print(\"Moving Towards Left  'L'\")\n",
    "            self.actions.append(\"L\")\n",
    "    \n",
    "    def perform_actions_room_A(self):\n",
    "        print(\"Action: Clean A\")\n",
    "        self.check_room_status[\"A\"] = \"CLEAN\"\n",
    "        self.percept_history.append(\"Cleaning A\")\n",
    "        \n",
    "    def perform_actions_room_B(self):\n",
    "        print(\"Action: Clean B\")\n",
    "        self.check_room_status[\"B\"] = \"CLEAN\"\n",
    "        self.percept_history.append(\"Cleaning B\")\n",
    "        \n",
    "    def percept_hist_cleaning(self):\n",
    "        print(self.percept_history)\n",
    "    \n",
    "    def percept_hist_movement(self):\n",
    "        print(self.actions)\n",
    "    \n",
    "    def check_status(self):\n",
    "        if self.check_room_status[\"A\"] == \"CLEAN\" and self.check_room_status[\"B\"] == \"CLEAN\":\n",
    "            print(\"Both rooms are clean.\")\n",
    "        elif self.check_room_status[\"A\"] == \"DIRTY\" and self.check_room_status[\"B\"] == \"DIRTY\":\n",
    "            print(\"Both rooms are dirty.\")\n",
    "        else:\n",
    "            print(\"Room A:\", self.check_room_status[\"A\"])\n",
    "            print(\"Room B:\", self.check_room_status[\"B\"])\n",
    "            \n",
    "    def detect_through_sensors(self):\n",
    "        if self.allot_room >= 50:\n",
    "            if self.check_room_status[\"A\"] == \"DIRTY\":\n",
    "                self.movement_A()\n",
    "                self.perform_actions_room_A()   \n",
    "        else:\n",
    "            if self.check_room_status[\"B\"] == \"DIRTY\":\n",
    "                self.movement_B()\n",
    "                self.perform_actions_room_B()\n",
    "\n",
    "c = 1\n",
    "v1 = VacuumCleaner()\n",
    "while c != 0:\n",
    "    print(\"           Welcome To Vacuum Cleaning Agent World      \")\n",
    "    print(\"                          Menu                         \")\n",
    "    choice = int(input(\"Press 1 To Start Bot\\nPress 2 To check Percept History\\nPress 3 To Check Actions\\n\"))\n",
    "    if choice == 1:\n",
    "        v1.allot_initial_state()\n",
    "        v1.check_status()\n",
    "        v1.detect_through_sensors()\n",
    "        \n",
    "    elif choice == 2:\n",
    "        v1.percept_hist_cleaning()\n",
    "    elif choice == 3:\n",
    "        v1.percept_hist_movement()\n",
    "    else:\n",
    "        print(\"Invalid choice. Please select a valid option.\")\n",
    "    c = int(input(\"Enter 0 to exit: \"))\n"
   ]
  },
  {
   "cell_type": "code",
   "execution_count": null,
   "id": "db569740",
   "metadata": {},
   "outputs": [],
   "source": []
  },
  {
   "cell_type": "code",
   "execution_count": null,
   "id": "7460f634",
   "metadata": {},
   "outputs": [],
   "source": []
  },
  {
   "cell_type": "code",
   "execution_count": null,
   "id": "616d3ff6",
   "metadata": {},
   "outputs": [],
   "source": []
  }
 ],
 "metadata": {
  "kernelspec": {
   "display_name": "Python 3 (ipykernel)",
   "language": "python",
   "name": "python3"
  },
  "language_info": {
   "codemirror_mode": {
    "name": "ipython",
    "version": 3
   },
   "file_extension": ".py",
   "mimetype": "text/x-python",
   "name": "python",
   "nbconvert_exporter": "python",
   "pygments_lexer": "ipython3",
   "version": "3.11.5"
  }
 },
 "nbformat": 4,
 "nbformat_minor": 5
}
